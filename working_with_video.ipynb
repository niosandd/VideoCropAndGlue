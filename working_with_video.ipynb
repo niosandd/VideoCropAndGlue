{
 "cells": [
  {
   "cell_type": "markdown",
   "id": "173d9cd8-b634-4835-bcdb-738125644979",
   "metadata": {
    "tags": []
   },
   "source": [
    "# Первые несколько секунд"
   ]
  },
  {
   "cell_type": "code",
   "execution_count": 25,
   "id": "8171fd6f-3c5e-40a4-b7d2-d69a935dcd6f",
   "metadata": {},
   "outputs": [
    {
     "name": "stdout",
     "output_type": "stream",
     "text": [
      "Moviepy - Building video D:/DataScience/YouTube Projects/toxi$/videos/DANTE17sec.mp4.\n",
      "MoviePy - Writing audio in DANTE17secTEMP_MPY_wvf_snd.mp4\n"
     ]
    },
    {
     "name": "stderr",
     "output_type": "stream",
     "text": [
      "                                                                                                                       \r"
     ]
    },
    {
     "name": "stdout",
     "output_type": "stream",
     "text": [
      "MoviePy - Done.\n",
      "Moviepy - Writing video D:/DataScience/YouTube Projects/toxi$/videos/DANTE17sec.mp4\n",
      "\n"
     ]
    },
    {
     "name": "stderr",
     "output_type": "stream",
     "text": [
      "                                                                                                                       \r"
     ]
    },
    {
     "name": "stdout",
     "output_type": "stream",
     "text": [
      "Moviepy - Done !\n",
      "Moviepy - video ready D:/DataScience/YouTube Projects/toxi$/videos/DANTE17sec.mp4\n"
     ]
    }
   ],
   "source": [
    "from moviepy.video.io.VideoFileClip import VideoFileClip\n",
    "\n",
    "input_video_path = r\"D:/DataScience/YouTube Projects/toxi$/videos/DANTE.mp4\"\n",
    "output_video_path = r\"D:/DataScience/YouTube Projects/toxi$/videos/DANTE17sec.mp4\"\n",
    "\n",
    "# Открываем видеофайл\n",
    "video_clip = VideoFileClip(input_video_path)\n",
    "\n",
    "# Обрезаем видео до первых 17 секунд\n",
    "trimmed_clip = video_clip.subclip(0, 17)\n",
    "\n",
    "# Сохраняем обрезанное видео\n",
    "trimmed_clip.write_videofile(output_video_path, codec=\"libx264\", audio_codec=\"aac\")\n",
    "\n",
    "# Закрываем видеофайл\n",
    "video_clip.close()"
   ]
  },
  {
   "cell_type": "markdown",
   "id": "fa5982e7-9896-47ac-bb09-8e2fa343f274",
   "metadata": {
    "tags": []
   },
   "source": [
    "# Последние несколько секунд"
   ]
  },
  {
   "cell_type": "code",
   "execution_count": 26,
   "id": "a51d4f71-b483-421e-8fdc-7e26568645e3",
   "metadata": {},
   "outputs": [
    {
     "name": "stdout",
     "output_type": "stream",
     "text": [
      "Moviepy - Building video D:/DataScience/YouTube Projects/toxi$/videos/BlagoWhite3sek.mp4.\n",
      "MoviePy - Writing audio in BlagoWhite3sekTEMP_MPY_wvf_snd.mp4\n"
     ]
    },
    {
     "name": "stderr",
     "output_type": "stream",
     "text": [
      "                                                                                                                       \r"
     ]
    },
    {
     "name": "stdout",
     "output_type": "stream",
     "text": [
      "MoviePy - Done.\n",
      "Moviepy - Writing video D:/DataScience/YouTube Projects/toxi$/videos/BlagoWhite3sek.mp4\n",
      "\n"
     ]
    },
    {
     "name": "stderr",
     "output_type": "stream",
     "text": [
      "                                                                                                                       \r"
     ]
    },
    {
     "name": "stdout",
     "output_type": "stream",
     "text": [
      "Moviepy - Done !\n",
      "Moviepy - video ready D:/DataScience/YouTube Projects/toxi$/videos/BlagoWhite3sek.mp4\n"
     ]
    }
   ],
   "source": [
    "input_video_path = \"D:/DataScience/YouTube Projects/toxi$/videos/BlagoWhite.mp4\"\n",
    "output_video_path = \"D:/DataScience/YouTube Projects/toxi$/videos/BlagoWhite3sek.mp4\"\n",
    "\n",
    "# Открываем видеофайл\n",
    "video_clip = VideoFileClip(input_video_path)\n",
    "\n",
    "# Определяем длительность видео\n",
    "video_duration = video_clip.duration\n",
    "\n",
    "# Обрезаем видео, оставляя последние 5 секунд\n",
    "trimmed_clip = video_clip.subclip(video_duration - 2, video_duration) #20\n",
    "\n",
    "# Сохраняем обрезанное видео\n",
    "trimmed_clip.write_videofile(output_video_path, codec=\"libx264\", audio_codec=\"aac\")\n",
    "\n",
    "# Закрываем видеофайл\n",
    "video_clip.close()"
   ]
  },
  {
   "cell_type": "markdown",
   "id": "075d9246-9df7-4119-b536-5ea5f1d5b6dc",
   "metadata": {},
   "source": [
    "# Объединение нескольких видео"
   ]
  },
  {
   "cell_type": "code",
   "execution_count": 27,
   "id": "036e0330-85b4-46b9-aac4-daf6b9fca538",
   "metadata": {},
   "outputs": [
    {
     "name": "stdout",
     "output_type": "stream",
     "text": [
      "Moviepy - Building video D:/DataScience/YouTube Projects/toxi$/videos/JestkiyFeatBilYbil.mp4.\n",
      "MoviePy - Writing audio in temp-audio.m4a\n"
     ]
    },
    {
     "name": "stderr",
     "output_type": "stream",
     "text": [
      "                                                                                                                       \r"
     ]
    },
    {
     "name": "stdout",
     "output_type": "stream",
     "text": [
      "MoviePy - Done.\n",
      "Moviepy - Writing video D:/DataScience/YouTube Projects/toxi$/videos/JestkiyFeatBilYbil.mp4\n",
      "\n"
     ]
    },
    {
     "name": "stderr",
     "output_type": "stream",
     "text": [
      "                                                                                                                       \r"
     ]
    },
    {
     "name": "stdout",
     "output_type": "stream",
     "text": [
      "Moviepy - Done !\n",
      "Moviepy - video ready D:/DataScience/YouTube Projects/toxi$/videos/JestkiyFeatBilYbil.mp4\n"
     ]
    }
   ],
   "source": [
    "from moviepy.video.io.VideoFileClip import VideoFileClip\n",
    "from moviepy.video.compositing.concatenate import concatenate_videoclips\n",
    "from moviepy.editor import *\n",
    "\n",
    "\n",
    "# Пути к вашим видеофайлам\n",
    "video1_path = \"D:/DataScience/YouTube Projects/toxi$/videos/DANTE17sec.mp4\"\n",
    "video2_path = \"D:/DataScience/YouTube Projects/toxi$/videos/BlagoWhite3sek.mp4\"\n",
    "output_video_path = \"D:/DataScience/YouTube Projects/toxi$/videos/JestkiyFeatBilYbil.mp4\"\n",
    "\n",
    "# Открываем видеофайлы\n",
    "video1_clip = VideoFileClip(video1_path)\n",
    "video2_clip = VideoFileClip(video2_path).resize(height=video1_clip.h, width=video1_clip.w)\n",
    "\n",
    "# Объединяем видео\n",
    "concatenated_clip = CompositeVideoClip([video1_clip.set_duration(video1_clip.duration),\n",
    "                                       video2_clip.set_start(video1_clip.duration)])\n",
    "\n",
    "# Сохраняем объединенное видео\n",
    "concatenated_clip.write_videofile(output_video_path, codec=\"libx264\", audio_codec=\"aac\", temp_audiofile=\"temp-audio.m4a\", remove_temp=True)\n",
    "\n",
    "# Закрываем видеофайлы\n",
    "video1_clip.close()\n",
    "video2_clip.close()"
   ]
  },
  {
   "cell_type": "code",
   "execution_count": null,
   "id": "acbac284-3638-44b9-8e00-70792e679182",
   "metadata": {},
   "outputs": [],
   "source": []
  }
 ],
 "metadata": {
  "kernelspec": {
   "display_name": "Python 3 (ipykernel)",
   "language": "python",
   "name": "python3"
  },
  "language_info": {
   "codemirror_mode": {
    "name": "ipython",
    "version": 3
   },
   "file_extension": ".py",
   "mimetype": "text/x-python",
   "name": "python",
   "nbconvert_exporter": "python",
   "pygments_lexer": "ipython3",
   "version": "3.9.12"
  }
 },
 "nbformat": 4,
 "nbformat_minor": 5
}
